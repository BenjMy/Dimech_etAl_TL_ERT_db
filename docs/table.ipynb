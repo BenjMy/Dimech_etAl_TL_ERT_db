{
  "cells": [
    {
      "cell_type": "markdown",
      "source": [
        "# Sum up table"
      ],
      "metadata": {
        "iooxa": null
      },
      "id": "5457fba4"
    },
    {
      "cell_type": "code",
      "source": [
        "import pandas as pd\n",
        "#import qgrid\n",
        "\n",
        "url='https://raw.githubusercontent.com/BenjMy/Dimech_etAl_TL_ERT_db/main/csv_db.csv'\n",
        "df=pd.read_csv(url,skiprows=0)"
      ],
      "outputs": [],
      "execution_count": 1,
      "metadata": {
        "iooxa": null
      },
      "id": "1ef7b7d9"
    },
    {
      "cell_type": "markdown",
      "source": [
        "---\n",
        "**NOTE**\n",
        "\n",
        "It works with almost all markdown flavours (the below blank line matters).\n",
        "\n",
        "---"
      ],
      "metadata": {
        "nteract": {
          "transient": {
            "deleting": false
          }
        }
      },
      "id": "b405911e-8da5-4e45-9655-19afc9e2b57f"
    },
    {
      "cell_type": "code",
      "source": [
        "df\n",
        "#widget = qgrid.show_grid(df)\n",
        "#widget"
      ],
      "outputs": [
        {
          "output_type": "execute_result",
          "execution_count": 2,
          "data": {
            "text/html": "<div>\n<style scoped>\n    .dataframe tbody tr th:only-of-type {\n        vertical-align: middle;\n    }\n\n    .dataframe tbody tr th {\n        vertical-align: top;\n    }\n\n    .dataframe thead th {\n        text-align: right;\n    }\n</style>\n<table border=\"1\" class=\"dataframe\">\n  <thead>\n    <tr style=\"text-align: right;\">\n      <th></th>\n      <th>ID</th>\n      <th>Title</th>\n      <th>Journal</th>\n      <th>Year</th>\n      <th>Cited</th>\n      <th>Last Updated</th>\n      <th>Type of survey</th>\n      <th>Field of application</th>\n      <th>Site name</th>\n      <th>Country</th>\n      <th>Duration (days)</th>\n      <th># snapshots</th>\n      <th>Frequency (snapshot/day)</th>\n      <th>ERT layout</th>\n      <th>Buried</th>\n      <th>Surface (m)</th>\n      <th>Electrode spacing (m)</th>\n      <th>Config Elec</th>\n      <th>Nb Elec</th>\n      <th>Resistivimeter</th>\n    </tr>\n  </thead>\n  <tbody>\n    <tr>\n      <th>0</th>\n      <td>Bevcs et al. (1991)</td>\n      <td>Borehole-to-surface electrical resistivity mon...</td>\n      <td>Geophysics</td>\n      <td>1991</td>\n      <td>156</td>\n      <td>5/26/2021</td>\n      <td>NaN</td>\n      <td>Contaminant monitoring</td>\n      <td>NaN</td>\n      <td>USA</td>\n      <td>NaN</td>\n      <td>NaN</td>\n      <td>NaN</td>\n      <td>NaN</td>\n      <td>NaN</td>\n      <td>NaN</td>\n      <td>NaN</td>\n      <td>NaN</td>\n      <td>1.0</td>\n      <td>NaN</td>\n    </tr>\n    <tr>\n      <th>1</th>\n      <td>Daily et al. (1992)</td>\n      <td>Electrical resistivity tomography of vadose wa...</td>\n      <td>Water Resources Research</td>\n      <td>1992</td>\n      <td>629</td>\n      <td>6/8/2021</td>\n      <td>Semi-permanent study</td>\n      <td>Hydrogeology</td>\n      <td>NaN</td>\n      <td>USA</td>\n      <td>72.0</td>\n      <td>15.0</td>\n      <td>5</td>\n      <td>2D borehole</td>\n      <td>Yes</td>\n      <td>20 m x 12 m</td>\n      <td>6</td>\n      <td>4 boreholes x 8 elec</td>\n      <td>32.0</td>\n      <td>NaN</td>\n    </tr>\n    <tr>\n      <th>2</th>\n      <td>Kalinski et al. (1993)</td>\n      <td>Electrical resistivity measurements to estimat...</td>\n      <td>Journal of Applied Geophysics</td>\n      <td>1993</td>\n      <td>63</td>\n      <td>6/8/2021</td>\n      <td>NaN</td>\n      <td>Hydrogeology</td>\n      <td>NaN</td>\n      <td>USA</td>\n      <td>NaN</td>\n      <td>NaN</td>\n      <td>NaN</td>\n      <td>NaN</td>\n      <td>NaN</td>\n      <td>NaN</td>\n      <td>NaN</td>\n      <td>NaN</td>\n      <td>1.0</td>\n      <td>NaN</td>\n    </tr>\n    <tr>\n      <th>3</th>\n      <td>Ramirez et al. (1993)</td>\n      <td>Monitoring an underground steam injection proc...</td>\n      <td>Water Resources Research</td>\n      <td>1993</td>\n      <td>218</td>\n      <td>5/26/2021</td>\n      <td>NaN</td>\n      <td>Contaminant monitoring</td>\n      <td>NaN</td>\n      <td>USA</td>\n      <td>NaN</td>\n      <td>NaN</td>\n      <td>NaN</td>\n      <td>NaN</td>\n      <td>NaN</td>\n      <td>NaN</td>\n      <td>NaN</td>\n      <td>NaN</td>\n      <td>1.0</td>\n      <td>NaN</td>\n    </tr>\n    <tr>\n      <th>4</th>\n      <td>White (1994)</td>\n      <td>Electrode arrays for measuring groundwater flo...</td>\n      <td>Geophysics</td>\n      <td>1994</td>\n      <td>98</td>\n      <td>6/8/2021</td>\n      <td>NaN</td>\n      <td>Hydrogeology</td>\n      <td>NaN</td>\n      <td>Nouvelle-Zeleand</td>\n      <td>NaN</td>\n      <td>NaN</td>\n      <td>NaN</td>\n      <td>NaN</td>\n      <td>NaN</td>\n      <td>NaN</td>\n      <td>NaN</td>\n      <td>NaN</td>\n      <td>1.0</td>\n      <td>NaN</td>\n    </tr>\n    <tr>\n      <th>...</th>\n      <td>...</td>\n      <td>...</td>\n      <td>...</td>\n      <td>...</td>\n      <td>...</td>\n      <td>...</td>\n      <td>...</td>\n      <td>...</td>\n      <td>...</td>\n      <td>...</td>\n      <td>...</td>\n      <td>...</td>\n      <td>...</td>\n      <td>...</td>\n      <td>...</td>\n      <td>...</td>\n      <td>...</td>\n      <td>...</td>\n      <td>...</td>\n      <td>...</td>\n    </tr>\n    <tr>\n      <th>669</th>\n      <td>Tso et al. (2020)</td>\n      <td>Integrated hydrogeophysical modelling and data...</td>\n      <td>Journal of Contaminant Hydrology</td>\n      <td>2020</td>\n      <td>2</td>\n      <td>5/26/2021</td>\n      <td>Semi-permanent synthetic/suggested</td>\n      <td>Contaminant monitoring</td>\n      <td>Hatfield</td>\n      <td>UK</td>\n      <td>40.0</td>\n      <td>40.0</td>\n      <td>1</td>\n      <td>3D borehole</td>\n      <td>Yes</td>\n      <td>10 x 6 x 6</td>\n      <td>NaN</td>\n      <td>NaN</td>\n      <td>1.0</td>\n      <td>ALERT</td>\n    </tr>\n    <tr>\n      <th>670</th>\n      <td>Vanella et al. (2020)</td>\n      <td>Electrical resistivity imaging for monitoring ...</td>\n      <td>Irrigation Science</td>\n      <td>2020</td>\n      <td>3</td>\n      <td>6/8/2021</td>\n      <td>Semi-permanent study</td>\n      <td>Vegetation</td>\n      <td>NaN</td>\n      <td>Italy</td>\n      <td>90.0</td>\n      <td>21.0</td>\n      <td>4</td>\n      <td>2D surface</td>\n      <td>No</td>\n      <td>11</td>\n      <td>0.15</td>\n      <td>2 lines of 72 elec each</td>\n      <td>144.0</td>\n      <td>Syscal</td>\n    </tr>\n    <tr>\n      <th>671</th>\n      <td>Vann et al. (2020)</td>\n      <td>Delineation of seawater intrusion using geo-el...</td>\n      <td>Water (Switzerland)</td>\n      <td>2020</td>\n      <td>13</td>\n      <td>5/28/2021</td>\n      <td>Regular measurements</td>\n      <td>Saline intrusion</td>\n      <td>NaN</td>\n      <td>Thailande</td>\n      <td>NaN</td>\n      <td>NaN</td>\n      <td>NaN</td>\n      <td>NaN</td>\n      <td>NaN</td>\n      <td>NaN</td>\n      <td>NaN</td>\n      <td>NaN</td>\n      <td>NaN</td>\n      <td>NaN</td>\n    </tr>\n    <tr>\n      <th>672</th>\n      <td>Vargas et al. (2020)</td>\n      <td>Soil electrical resistivity monitoring as a pr...</td>\n      <td>Irrigation Science</td>\n      <td>2020</td>\n      <td>0</td>\n      <td>6/8/2021</td>\n      <td>Artificial conditions</td>\n      <td>Vegetation</td>\n      <td>NaN</td>\n      <td>Chili</td>\n      <td>1.0</td>\n      <td>NaN</td>\n      <td>#DIV/0!</td>\n      <td>NaN</td>\n      <td>NaN</td>\n      <td>NaN</td>\n      <td>NaN</td>\n      <td>NaN</td>\n      <td>1.0</td>\n      <td>NaN</td>\n    </tr>\n    <tr>\n      <th>673</th>\n      <td>Zhou et al. (2020)</td>\n      <td>Dynamic Processes of CO2 Storage in the Field:...</td>\n      <td>Water Resources Research</td>\n      <td>2020</td>\n      <td>5</td>\n      <td>6/8/2021</td>\n      <td>Semi-permanent study</td>\n      <td>Gas Dynamics</td>\n      <td>Cranfield</td>\n      <td>USA</td>\n      <td>330.0</td>\n      <td>330.0</td>\n      <td>1</td>\n      <td>2D borehole</td>\n      <td>Yes</td>\n      <td>60</td>\n      <td>5</td>\n      <td>2 boreholes (1 x 14 + 1 x 7)</td>\n      <td>21.0</td>\n      <td>MPT-DAS-1</td>\n    </tr>\n  </tbody>\n</table>\n<p>674 rows × 20 columns</p>\n</div>",
            "text/plain": "                         ID  \\\n0       Bevcs et al. (1991)   \n1       Daily et al. (1992)   \n2    Kalinski et al. (1993)   \n3     Ramirez et al. (1993)   \n4              White (1994)   \n..                      ...   \n669       Tso et al. (2020)   \n670   Vanella et al. (2020)   \n671      Vann et al. (2020)   \n672    Vargas et al. (2020)   \n673      Zhou et al. (2020)   \n\n                                                 Title  \\\n0    Borehole-to-surface electrical resistivity mon...   \n1    Electrical resistivity tomography of vadose wa...   \n2    Electrical resistivity measurements to estimat...   \n3    Monitoring an underground steam injection proc...   \n4    Electrode arrays for measuring groundwater flo...   \n..                                                 ...   \n669  Integrated hydrogeophysical modelling and data...   \n670  Electrical resistivity imaging for monitoring ...   \n671  Delineation of seawater intrusion using geo-el...   \n672  Soil electrical resistivity monitoring as a pr...   \n673  Dynamic Processes of CO2 Storage in the Field:...   \n\n                              Journal  Year  Cited Last Updated  \\\n0                          Geophysics  1991    156    5/26/2021   \n1            Water Resources Research  1992    629     6/8/2021   \n2       Journal of Applied Geophysics  1993     63     6/8/2021   \n3            Water Resources Research  1993    218    5/26/2021   \n4                          Geophysics  1994     98     6/8/2021   \n..                                ...   ...    ...          ...   \n669  Journal of Contaminant Hydrology  2020      2    5/26/2021   \n670                Irrigation Science  2020      3     6/8/2021   \n671               Water (Switzerland)  2020     13    5/28/2021   \n672                Irrigation Science  2020      0     6/8/2021   \n673          Water Resources Research  2020      5     6/8/2021   \n\n                         Type of survey    Field of application  Site name  \\\n0                                   NaN  Contaminant monitoring        NaN   \n1                  Semi-permanent study            Hydrogeology        NaN   \n2                                   NaN            Hydrogeology        NaN   \n3                                   NaN  Contaminant monitoring        NaN   \n4                                   NaN            Hydrogeology        NaN   \n..                                  ...                     ...        ...   \n669  Semi-permanent synthetic/suggested  Contaminant monitoring   Hatfield   \n670                Semi-permanent study              Vegetation        NaN   \n671                Regular measurements        Saline intrusion        NaN   \n672               Artificial conditions              Vegetation        NaN   \n673                Semi-permanent study            Gas Dynamics  Cranfield   \n\n              Country  Duration (days)  # snapshots Frequency (snapshot/day)  \\\n0                 USA              NaN          NaN                      NaN   \n1                 USA             72.0         15.0                        5   \n2                 USA              NaN          NaN                      NaN   \n3                 USA              NaN          NaN                      NaN   \n4    Nouvelle-Zeleand              NaN          NaN                      NaN   \n..                ...              ...          ...                      ...   \n669                UK             40.0         40.0                        1   \n670             Italy             90.0         21.0                        4   \n671         Thailande              NaN          NaN                      NaN   \n672             Chili              1.0          NaN                  #DIV/0!   \n673               USA            330.0        330.0                        1   \n\n       ERT layout Buried  Surface (m) Electrode spacing (m)   \\\n0             NaN    NaN          NaN                    NaN   \n1     2D borehole    Yes  20 m x 12 m                      6   \n2             NaN    NaN          NaN                    NaN   \n3             NaN    NaN          NaN                    NaN   \n4             NaN    NaN          NaN                    NaN   \n..            ...    ...          ...                    ...   \n669   3D borehole    Yes   10 x 6 x 6                    NaN   \n670    2D surface     No           11                   0.15   \n671           NaN    NaN          NaN                    NaN   \n672           NaN    NaN          NaN                    NaN   \n673  2D borehole     Yes           60                      5   \n\n                      Config Elec  Nb Elec Resistivimeter  \n0                             NaN      1.0            NaN  \n1            4 boreholes x 8 elec     32.0            NaN  \n2                             NaN      1.0            NaN  \n3                             NaN      1.0            NaN  \n4                             NaN      1.0            NaN  \n..                            ...      ...            ...  \n669                           NaN      1.0          ALERT  \n670       2 lines of 72 elec each    144.0         Syscal  \n671                           NaN      NaN            NaN  \n672                           NaN      1.0            NaN  \n673  2 boreholes (1 x 14 + 1 x 7)     21.0      MPT-DAS-1  \n\n[674 rows x 20 columns]"
          },
          "metadata": {}
        }
      ],
      "execution_count": 2,
      "metadata": {
        "iooxa": null
      },
      "id": "b6bc009f-f5ba-43f9-a6f3-6f9a8b01fcd7"
    },
    {
      "cell_type": "code",
      "source": [
        "from bokeh.io import show\n",
        "from bokeh.models import ColumnDataSource, DataTable, DateFormatter, TableColumn\n",
        "\n",
        "Columns = [TableColumn(field=Ci, title=Ci) for Ci in df.columns] # bokeh columns\n",
        "data_table = DataTable(columns=Columns, source=ColumnDataSource(df)) # bokeh table\n"
      ],
      "outputs": [],
      "execution_count": 3,
      "metadata": {
        "iooxa": null
      },
      "id": "ae01f939"
    },
    {
      "cell_type": "code",
      "source": [
        "show(data_table)"
      ],
      "outputs": [],
      "execution_count": 4,
      "metadata": {
        "iooxa": null
      },
      "id": "bdf34856-b252-4ed0-8288-fb563716e301"
    },
    {
      "cell_type": "code",
      "source": [],
      "outputs": [],
      "execution_count": null,
      "metadata": {
        "iooxa": null
      },
      "id": "448a4d87"
    }
  ],
  "metadata": {
    "celltoolbar": "Éditer les Méta-Données",
    "iooxa": null,
    "kernelspec": {
      "display_name": "Python 3 (ipykernel)",
      "language": "python",
      "name": "python3"
    },
    "language_info": {
      "codemirror_mode": {
        "name": "ipython",
        "version": 3
      },
      "file_extension": ".py",
      "mimetype": "text/x-python",
      "name": "python",
      "nbconvert_exporter": "python",
      "pygments_lexer": "ipython3",
      "version": "3.8.10"
    },
    "nteract": {
      "version": "0.28.0"
    }
  },
  "nbformat": 4,
  "nbformat_minor": 5
}