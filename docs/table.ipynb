{
 "cells": [
  {
   "cell_type": "markdown",
   "id": "5457fba4",
   "metadata": {
    "iooxa": null
   },
   "source": [
    "# Sum up table"
   ]
  },
  {
   "cell_type": "code",
   "execution_count": null,
   "id": "1ef7b7d9",
   "metadata": {
    "nbsphinx": "hidden"
   },
   "outputs": [],
   "source": [
    "import pandas as pd\n",
    "#import qgrid\n",
    "url='https://raw.githubusercontent.com/BenjMy/Dimech_etAl_TL_ERT_db/main/csv_db.csv'\n",
    "df=pd.read_csv(url,skiprows=0)"
   ]
  },
  {
   "cell_type": "markdown",
   "id": "b405911e-8da5-4e45-9655-19afc9e2b57f",
   "metadata": {
    "nteract": {
     "transient": {
      "deleting": false
     }
    }
   },
   "source": [
    "---\n",
    "**NOTE**\n",
    "\n",
    "It works with almost all markdown flavours (the below blank line matters).\n",
    "\n",
    "---"
   ]
  },
  {
   "cell_type": "code",
   "execution_count": null,
   "id": "b6bc009f-f5ba-43f9-a6f3-6f9a8b01fcd7",
   "metadata": {
    "nbsphinx": "hidden"
   },
   "outputs": [],
   "source": [
    "from itables import init_notebook_mode\n",
    "init_notebook_mode(all_interactive=True)\n",
    "import itables.options as opt\n",
    "opt.lengthMenu = [2, 5, 10, 20, 50, 100, 200, 500]\n",
    "show(df)"
   ]
  },
  {
   "cell_type": "code",
   "execution_count": null,
   "id": "bef72dd5",
   "metadata": {},
   "outputs": [],
   "source": []
  }
 ],
 "metadata": {
  "celltoolbar": "Éditer les Méta-Données",
  "iooxa": null,
  "kernelspec": {
   "display_name": "Python 3 (ipykernel)",
   "language": "python",
   "name": "python3"
  },
  "language_info": {
   "codemirror_mode": {
    "name": "ipython",
    "version": 3
   },
   "file_extension": ".py",
   "mimetype": "text/x-python",
   "name": "python",
   "nbconvert_exporter": "python",
   "pygments_lexer": "ipython3",
   "version": "3.8.10"
  },
  "nteract": {
   "version": "0.28.0"
  }
 },
 "nbformat": 4,
 "nbformat_minor": 5
}
