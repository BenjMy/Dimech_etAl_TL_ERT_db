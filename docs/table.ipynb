{
 "cells": [
  {
   "cell_type": "markdown",
   "id": "5457fba4",
   "metadata": {
    "iooxa": null
   },
   "source": [
    "# Sum up table"
   ]
  },
  {
   "cell_type": "code",
   "execution_count": 1,
   "id": "1ef7b7d9",
   "metadata": {
    "iooxa": null
   },
   "outputs": [],
   "source": [
    "import pandas as pd\n",
    "#import qgrid\n",
    "\n",
    "url='https://raw.githubusercontent.com/BenjMy/Dimech_etAl_TL_ERT_db/main/csv_db.csv'\n",
    "df=pd.read_csv(url,skiprows=0)"
   ]
  },
  {
   "cell_type": "markdown",
   "id": "b405911e-8da5-4e45-9655-19afc9e2b57f",
   "metadata": {
    "nteract": {
     "transient": {
      "deleting": false
     }
    }
   },
   "source": [
    "---\n",
    "**NOTE**\n",
    "\n",
    "It works with almost all markdown flavours (the below blank line matters).\n",
    "\n",
    "---"
   ]
  },
  {
   "cell_type": "code",
   "execution_count": 7,
   "id": "b6bc009f-f5ba-43f9-a6f3-6f9a8b01fcd7",
   "metadata": {
    "iooxa": null
   },
   "outputs": [
    {
     "ename": "ModuleNotFoundError",
     "evalue": "No module named 'itables'",
     "output_type": "error",
     "traceback": [
      "\u001b[0;31m---------------------------------------------------------------------------\u001b[0m",
      "\u001b[0;31mModuleNotFoundError\u001b[0m                       Traceback (most recent call last)",
      "\u001b[0;32m/tmp/ipykernel_105044/1807224511.py\u001b[0m in \u001b[0;36m<module>\u001b[0;34m\u001b[0m\n\u001b[0;32m----> 1\u001b[0;31m \u001b[0;32mfrom\u001b[0m \u001b[0mitables\u001b[0m \u001b[0;32mimport\u001b[0m \u001b[0minit_notebook_mode\u001b[0m\u001b[0;34m\u001b[0m\u001b[0;34m\u001b[0m\u001b[0m\n\u001b[0m\u001b[1;32m      2\u001b[0m \u001b[0minit_notebook_mode\u001b[0m\u001b[0;34m(\u001b[0m\u001b[0mall_interactive\u001b[0m\u001b[0;34m=\u001b[0m\u001b[0;32mTrue\u001b[0m\u001b[0;34m)\u001b[0m\u001b[0;34m\u001b[0m\u001b[0;34m\u001b[0m\u001b[0m\n",
      "\u001b[0;31mModuleNotFoundError\u001b[0m: No module named 'itables'"
     ]
    }
   ],
   "source": [
    "from itables import init_notebook_mode\n",
    "init_notebook_mode(all_interactive=True)\n",
    "opt.lengthMenu = [2, 5, 10, 20, 50, 100, 200, 500]\n"
   ]
  },
  {
   "cell_type": "code",
   "execution_count": 3,
   "id": "ae01f939",
   "metadata": {
    "iooxa": null
   },
   "outputs": [],
   "source": []
  },
  {
   "cell_type": "code",
   "execution_count": 4,
   "id": "bdf34856-b252-4ed0-8288-fb563716e301",
   "metadata": {
    "iooxa": null
   },
   "outputs": [],
   "source": []
  },
  {
   "cell_type": "code",
   "execution_count": null,
   "id": "448a4d87",
   "metadata": {
    "iooxa": null
   },
   "outputs": [],
   "source": []
  }
 ],
 "metadata": {
  "celltoolbar": "Éditer les Méta-Données",
  "iooxa": null,
  "kernelspec": {
   "display_name": "Python 3 (ipykernel)",
   "language": "python",
   "name": "python3"
  },
  "language_info": {
   "codemirror_mode": {
    "name": "ipython",
    "version": 3
   },
   "file_extension": ".py",
   "mimetype": "text/x-python",
   "name": "python",
   "nbconvert_exporter": "python",
   "pygments_lexer": "ipython3",
   "version": "3.8.10"
  },
  "nteract": {
   "version": "0.28.0"
  }
 },
 "nbformat": 4,
 "nbformat_minor": 5
}
