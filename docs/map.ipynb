{
  "cells": [
    {
      "cell_type": "markdown",
      "source": [
        "Below you can file a nice plot"
      ],
      "metadata": {
        "nteract": {
          "transient": {
            "deleting": false
          }
        }
      },
      "id": "ab7b43b4-5a63-4f93-b263-7bdbc3109afa"
    },
    {
      "cell_type": "code",
      "source": [
        "from ipyleaflet import Map, basemaps, basemap_to_tiles\n",
        "\n",
        "m = Map(\n",
        "    basemap=basemap_to_tiles(basemaps.NASAGIBS.ModisTerraTrueColorCR, \"2017-04-08\"),\n",
        "    center=(52.204793, 360.121558),\n",
        "    zoom=4\n",
        ")\n",
        "\n",
        "m"
      ],
      "outputs": [
        {
          "output_type": "display_data",
          "data": {
            "application/vnd.jupyter.widget-view+json": {
              "model_id": "606994614a67489bb9f51476bac82b83",
              "version_major": 2,
              "version_minor": 0
            },
            "text/plain": "Map(center=[52.204793, 360.121558], controls=(ZoomControl(options=['position', 'zoom_in_text', 'zoom_in_title'…"
          },
          "metadata": {}
        }
      ],
      "execution_count": 1,
      "metadata": {},
      "id": "f4641467"
    }
  ],
  "metadata": {
    "kernelspec": {
      "display_name": "Python 3 (ipykernel)",
      "language": "python",
      "name": "python3"
    },
    "language_info": {
      "codemirror_mode": {
        "name": "ipython",
        "version": 3
      },
      "file_extension": ".py",
      "mimetype": "text/x-python",
      "name": "python",
      "nbconvert_exporter": "python",
      "pygments_lexer": "ipython3",
      "version": "3.8.10"
    },
    "nteract": {
      "version": "0.28.0"
    }
  },
  "nbformat": 4,
  "nbformat_minor": 5
}