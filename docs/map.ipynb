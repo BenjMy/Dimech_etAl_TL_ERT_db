{
  "cells": [
    {
      "cell_type": "markdown",
      "source": [
        "# My Map"
      ],
      "metadata": {},
      "id": "dc96c9ca"
    },
    {
      "cell_type": "code",
      "source": [
        "from ipyleaflet import Map, basemaps, basemap_to_tiles\n",
        "\n",
        "m = Map(\n",
        "    basemap=basemap_to_tiles(basemaps.NASAGIBS.ModisTerraTrueColorCR, \"2017-04-08\"),\n",
        "    center=(52.204793, 360.121558),\n",
        "    zoom=4\n",
        ")\n",
        "\n",
        "m"
      ],
      "outputs": [
        {
          "output_type": "display_data",
          "data": {
            "text/plain": "Map(center=[52.204793, 360.121558], controls=(ZoomControl(options=['position', 'zoom_in_text', 'zoom_in_title'…",
            "application/vnd.jupyter.widget-view+json": {
              "version_major": 2,
              "version_minor": 0,
              "model_id": "1c4e29e3bb5e49c5ac57941d1e1a4ef7"
            }
          },
          "metadata": {}
        }
      ],
      "execution_count": 1,
      "metadata": {
        "execution": {
          "iopub.status.busy": "2021-10-24T22:31:05.268Z",
          "iopub.execute_input": "2021-10-24T22:31:05.275Z",
          "iopub.status.idle": "2021-10-24T22:31:05.344Z",
          "shell.execute_reply": "2021-10-24T22:31:05.351Z"
        }
      },
      "id": "0feb6522"
    },
    {
      "cell_type": "markdown",
      "source": [
        "A bit more text here"
      ],
      "metadata": {
        "nteract": {
          "transient": {
            "deleting": false
          }
        }
      },
      "id": "7beb522e-8b7c-4ab2-a963-053715231d62"
    }
  ],
  "metadata": {
    "kernelspec": {
      "display_name": "Python 3 (ipykernel)",
      "language": "python",
      "name": "python3"
    },
    "language_info": {
      "name": "python",
      "version": "3.8.10",
      "mimetype": "text/x-python",
      "codemirror_mode": {
        "name": "ipython",
        "version": 3
      },
      "pygments_lexer": "ipython3",
      "nbconvert_exporter": "python",
      "file_extension": ".py"
    },
    "nteract": {
      "version": "0.28.0"
    }
  },
  "nbformat": 4,
  "nbformat_minor": 5
}