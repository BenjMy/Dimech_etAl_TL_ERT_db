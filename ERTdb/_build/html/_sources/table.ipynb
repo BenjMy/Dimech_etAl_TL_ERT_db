{
 "cells": [
  {
   "cell_type": "markdown",
   "id": "5457fba4",
   "metadata": {
    "iooxa": null
   },
   "source": [
    "# Sum up table"
   ]
  },
  {
   "cell_type": "markdown",
   "id": "b405911e-8da5-4e45-9655-19afc9e2b57f",
   "metadata": {
    "nteract": {
     "transient": {
      "deleting": false
     }
    }
   },
   "source": [
    "---\n",
    "**NOTE**\n",
    "\n",
    "It works with almost all markdown flavours (the below blank line matters).\n",
    "\n",
    "---"
   ]
  },
  {
   "cell_type": "code",
   "execution_count": null,
   "id": "b6bc009f-f5ba-43f9-a6f3-6f9a8b01fcd7",
   "metadata": {
    "tags": [
     "remove-input"
    ]
   },
   "outputs": [],
   "source": [
    "#import qgrid\n",
    "import pandas as pd\n",
    "url='https://raw.githubusercontent.com/BenjMy/Dimech_etAl_TL_ERT_db/main/csv_db.csv'\n",
    "df=pd.read_csv(url,skiprows=0)\n",
    "\n",
    "df"
   ]
  },
  {
   "cell_type": "code",
   "execution_count": null,
   "id": "463425c8",
   "metadata": {},
   "outputs": [
    {
     "data": {
      "application/vnd.jupyter.widget-view+json": {
       "model_id": "76e4e39091ed49e184530662ee45baf9",
       "version_major": 2,
       "version_minor": 0
      },
      "text/plain": [
       "DataGrid(auto_fit_params={'area': 'all', 'padding': 30, 'numCols': None}, base_column_size=300, base_row_size=…"
      ]
     },
     "metadata": {},
     "output_type": "display_data"
    }
   ],
   "source": []
  }
 ],
 "metadata": {
  "celltoolbar": "Éditer les Méta-Données",
  "iooxa": null,
  "kernelspec": {
   "display_name": "Dimech",
   "language": "python",
   "name": "dimech-env"
  },
  "language_info": {
   "codemirror_mode": {
    "name": "ipython",
    "version": 3
   },
   "file_extension": ".py",
   "mimetype": "text/x-python",
   "name": "python",
   "nbconvert_exporter": "python",
   "pygments_lexer": "ipython3",
   "version": "3.7.7"
  },
  "nteract": {
   "version": "0.28.0"
  }
 },
 "nbformat": 4,
 "nbformat_minor": 5
}
